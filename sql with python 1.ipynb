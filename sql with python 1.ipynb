{
 "cells": [
  {
   "cell_type": "code",
   "execution_count": null,
   "id": "b2b01eb0",
   "metadata": {},
   "outputs": [],
   "source": [
    "# SQL query to create a Table.\n",
    "\n",
    "CREATE TABLE IF NOT EXISTS USERTABLE (STUDENTID INTEGER, STUDENTNAME TEXT, STUDENTADDRESS TEXT)"
   ]
  },
  {
   "cell_type": "code",
   "execution_count": null,
   "id": "5a6edd2b",
   "metadata": {},
   "outputs": [],
   "source": [
    "# INSERT DATA INTO TABLE.\n",
    "INSERT  INTO USERTABLE VALUES(10,'JAMES','CALIFORNIA')\n",
    "INSERT INTO USERTABLE VALUES(11,'RONIT','PARIS')"
   ]
  },
  {
   "cell_type": "code",
   "execution_count": null,
   "id": "81c2bd2c",
   "metadata": {},
   "outputs": [],
   "source": [
    "# SECOND WAY OF INSERTING INTO TABLE.\n",
    "INSERT INTO USERTABLE (STUDENTID,STUDENTNAME, STUDENTADDRESS) VALUES (12,'ROHIT','INDIA')"
   ]
  },
  {
   "cell_type": "code",
   "execution_count": null,
   "id": "f544bf33",
   "metadata": {},
   "outputs": [],
   "source": [
    "# THIRD WAY OF INSERTING INTO TABLE.\n",
    "INSERT INTO USERTABLE (STUDENTID,STUDENTNAME,STUDENTADDRESS) VALUES(13,'ROY','PARIS'),(14,'TONY','CANADA'),(15,'PAY','MICHIGIN')"
   ]
  },
  {
   "cell_type": "code",
   "execution_count": 6,
   "id": "b25f174b",
   "metadata": {},
   "outputs": [],
   "source": [
    "##############################################################"
   ]
  },
  {
   "cell_type": "code",
   "execution_count": 7,
   "id": "189c3416",
   "metadata": {},
   "outputs": [],
   "source": [
    "# REAL EXAMPLE ##########"
   ]
  },
  {
   "cell_type": "code",
   "execution_count": 23,
   "id": "9f9da7ad",
   "metadata": {},
   "outputs": [],
   "source": [
    "# SAMPLE1.DB  IS DATABASE.\n",
    "# TABLENAME1 IS TABLE INSIDE SAMPLE1.DB DATABASE.\n",
    "import sqlite3\n",
    "\n",
    "with sqlite3.connect(\"sample1.db\") as conn:\n",
    "    cursor=conn.cursor()\n",
    "    cursor.execute(\"CREATE TABLE IF NOT EXISTS TABLENAME1 (STUDENTID INTEGER, STUDENTNAME TEXT)\")\n",
    "    cursor.execute(\"INSERT INTO TABLENAME1 VALUES(100,'JAMES')\")\n",
    "    conn.commit()\n",
    "   \n"
   ]
  },
  {
   "cell_type": "code",
   "execution_count": 20,
   "id": "0c30a4b0",
   "metadata": {},
   "outputs": [
    {
     "data": {
      "text/plain": [
       "'C:\\\\Users\\\\md.sakib'"
      ]
     },
     "execution_count": 20,
     "metadata": {},
     "output_type": "execute_result"
    }
   ],
   "source": [
    "pwd"
   ]
  },
  {
   "cell_type": "code",
   "execution_count": null,
   "id": "afa8f6ef",
   "metadata": {},
   "outputs": [],
   "source": [
    "#NOW CREATE ANOHTER EMPLOYEE TABLE INSIDE SAME SAMPLE1.DB DATABASE.\n"
   ]
  },
  {
   "cell_type": "code",
   "execution_count": 24,
   "id": "7140fbf1",
   "metadata": {},
   "outputs": [],
   "source": [
    "#ONLY CREATING EMPLOYEETABLE WITH NO RECORD.\n",
    "\n",
    "import sqlite3\n",
    "\n",
    "with sqlite3.connect(\"sample1.db\") as conn2:\n",
    "    cursor=conn2.cursor()\n",
    "    cursor.execute(\"CREATE TABLE IF NOT EXISTS EMPLOYEETABLE (EMPLOYEID INTEGER, EMPLOYENAME TEXT)\")\n",
    "    "
   ]
  },
  {
   "cell_type": "code",
   "execution_count": 27,
   "id": "bf8d7f8d",
   "metadata": {},
   "outputs": [],
   "source": [
    "\n",
    "import sqlite3\n",
    "\n",
    "with sqlite3.connect(\"sample1.db\") as conn2:\n",
    "    cursor=conn2.cursor()\n",
    "    cursor.execute(\"CREATE TABLE IF NOT EXISTS EMPLOYEETABLE (EMPLOYEID INTEGER, EMPLOYENAME TEXT)\")\n",
    "    cursor.execute(\"INSERT INTO EMPLOYEETABLE VALUES(201,'EMPLOYEE1_JAMES')\")\n",
    "    cursor.execute(\"INSERT INTO EMPLOYEETABLE VALUES(202,'EMPLOYEE2_RONY')\")\n",
    "    conn.commit()"
   ]
  },
  {
   "cell_type": "code",
   "execution_count": 28,
   "id": "aeba20ba",
   "metadata": {},
   "outputs": [],
   "source": [
    "###################\n",
    "# NOrmal sql queries\n",
    "CREATE TABLE IF NOT EXISTS EMPLOYEETABLE (EMPLOYEID INTEGER, EMPLOYENAME TEXT) # for creating table\n",
    "\n",
    "# inserting record into tables\n",
    "INSERT INTO EMPLOYEETABLE VALUES(201,'EMPLOYEE1_JAMES')"
   ]
  },
  {
   "cell_type": "code",
   "execution_count": null,
   "id": "e94518b0",
   "metadata": {},
   "outputs": [],
   "source": []
  },
  {
   "cell_type": "code",
   "execution_count": null,
   "id": "7885df17",
   "metadata": {},
   "outputs": [],
   "source": []
  }
 ],
 "metadata": {
  "kernelspec": {
   "display_name": "Python 3",
   "language": "python",
   "name": "python3"
  },
  "language_info": {
   "codemirror_mode": {
    "name": "ipython",
    "version": 3
   },
   "file_extension": ".py",
   "mimetype": "text/x-python",
   "name": "python",
   "nbconvert_exporter": "python",
   "pygments_lexer": "ipython3",
   "version": "3.9.5"
  }
 },
 "nbformat": 4,
 "nbformat_minor": 5
}
